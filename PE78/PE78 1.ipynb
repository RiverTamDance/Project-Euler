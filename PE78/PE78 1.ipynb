{
 "cells": [
  {
   "cell_type": "code",
   "execution_count": 1,
   "metadata": {},
   "outputs": [
    {
     "name": "stdout",
     "output_type": "stream",
     "text": [
      "[0, 1, 2, 3, 4, 5, 6, 7, 8, 9]\n"
     ]
    }
   ],
   "source": [
    "print([i for i in range(10)])"
   ]
  },
  {
   "cell_type": "code",
   "execution_count": 14,
   "metadata": {},
   "outputs": [
    {
     "name": "stdout",
     "output_type": "stream",
     "text": [
      "1\n",
      "1\n",
      "2\n",
      "3\n",
      "5\n",
      "7\n",
      "11\n",
      "15\n",
      "22\n",
      "30\n"
     ]
    }
   ],
   "source": [
    "from functools import lru_cache\n",
    "from itertools import count, dropwhile\n",
    "import sys\n",
    "\n",
    "@lru_cache(maxsize = None)\n",
    "def partitions(n, k = None):\n",
    "    \n",
    "    #For when I want a 1-argument function\n",
    "    if k == None: \n",
    "        k = n\n",
    "    \n",
    "    if k == 1:\n",
    "        cnt = 1\n",
    "    elif n <= 1:\n",
    "        cnt = 1\n",
    "    elif n < k:\n",
    "        cnt = partitions(n)\n",
    "    else:\n",
    "        cnt = partitions(n-k, k) + partitions(n,k-1)\n",
    "\n",
    "    return(cnt)\n",
    "\n",
    "for i in range(10):\n",
    "    print(partitions(i))\n",
    "    \n",
    "# sols = dropwhile(lambda x: (partitions(x) % 1000000) != 0, count(2)\n"
   ]
  },
  {
   "cell_type": "code",
   "execution_count": 15,
   "metadata": {},
   "outputs": [
    {
     "name": "stdout",
     "output_type": "stream",
     "text": [
      "22\n"
     ]
    }
   ],
   "source": [
    "def partitions(x):\n",
    "    total = 0\n",
    "    stack = [{'n': x, 'k': x, 'p':}]\n",
    "    #takes as input doubles (n,k)\n",
    "    memo = {}\n",
    "    while stack:\n",
    "        \n",
    "        frame = stack.pop()\n",
    "        \n",
    "        n = frame['n']\n",
    "        k = frame['k']\n",
    "        \n",
    "        if k == 1:\n",
    "            total += 1\n",
    "        elif n <= 1:\n",
    "            total += 1\n",
    "        #This is the memoization fetch step\n",
    "        elif memo.get((n, k)):\n",
    "            total += memo.get((n, k))\n",
    "        else:\n",
    "            elif n < k:\n",
    "                stack.append({'n': n, 'k': n})\n",
    "            else:\n",
    "                stack.append({'n': n - k, 'k': k})\n",
    "                stack.append({'n': n, 'k': k - 1})\n",
    "            \n",
    "    return(total)\n",
    "\n",
    "print(partitions(8))"
   ]
  },
  {
   "cell_type": "code",
   "execution_count": 3,
   "metadata": {},
   "outputs": [
    {
     "name": "stdout",
     "output_type": "stream",
     "text": [
      "3.6.6+ (default, Aug 30 2021, 19:21:08) \n",
      "[GCC Apple LLVM 12.0.5 (clang-1205.0.22.11)]\n"
     ]
    }
   ],
   "source": [
    "import sys\n",
    "\n",
    "print(sys.version)"
   ]
  },
  {
   "cell_type": "code",
   "execution_count": 18,
   "metadata": {},
   "outputs": [
    {
     "name": "stdout",
     "output_type": "stream",
     "text": [
      "taylor\n",
      " this idiom works!\n"
     ]
    },
    {
     "data": {
      "text/plain": [
       "{'n': 3, 'k': 3, 'p': None}"
      ]
     },
     "execution_count": 18,
     "metadata": {},
     "output_type": "execute_result"
    }
   ],
   "source": [
    "d = {'taylor': 3, 'dakota':4}\n",
    "\n",
    "print('taylor')\n",
    "\n",
    "if not d.get('daniel'):\n",
    "    print(' this idiom works!')\n",
    "x=3 \n",
    "{'n': x, 'k': x, 'p':None}"
   ]
  },
  {
   "cell_type": "code",
   "execution_count": 8,
   "metadata": {},
   "outputs": [
    {
     "data": {
      "text/plain": [
       "2"
      ]
     },
     "execution_count": 8,
     "metadata": {},
     "output_type": "execute_result"
    }
   ],
   "source": [
    "20 % 3"
   ]
  },
  {
   "cell_type": "code",
   "execution_count": 1,
   "metadata": {},
   "outputs": [
    {
     "data": {
      "text/plain": [
       "True"
      ]
     },
     "execution_count": 1,
     "metadata": {},
     "output_type": "execute_result"
    }
   ],
   "source": [
    "not None"
   ]
  },
  {
   "cell_type": "code",
   "execution_count": 4,
   "metadata": {},
   "outputs": [
    {
     "name": "stdout",
     "output_type": "stream",
     "text": [
      "0\n",
      "1\n",
      "2\n"
     ]
    }
   ],
   "source": [
    "import itertools as it\n",
    "\n",
    "naturals = it.count()\n",
    "\n",
    "print(next(naturals))\n",
    "print(next(naturals))\n",
    "print(next(naturals))"
   ]
  },
  {
   "cell_type": "code",
   "execution_count": null,
   "metadata": {},
   "outputs": [
    {
     "name": "stdout",
     "output_type": "stream",
     "text": [
      "1000 | 24061467864032622473692149727991\n",
      "2000 | 4720819175619413888601432406799959512200344166\n",
      "3000 | 496025142797537184410324879054927095334462742231683423624\n"
     ]
    }
   ],
   "source": [
    "import itertools as it\n",
    "    \n",
    "def gen_table():\n",
    "    \n",
    "    table = {(0,0) : 1}\n",
    "    \n",
    "                #populate the next row and column of the table\n",
    "    for n in it.count(1):\n",
    "        \n",
    "        table[0,n] = 1\n",
    "        \n",
    "        for i in range(1, n+1):\n",
    "\n",
    "            #row calculate\n",
    "            if i == 1:\n",
    "                #print(\"i == 1\")\n",
    "                table[n,i] = 1\n",
    "            elif n == 0:\n",
    "                #print(\"n == 0\")\n",
    "                table[n,i] = 1\n",
    "            else:\n",
    "                #print(\"recursion\")\n",
    "                table[n,i] = table[n-i, i] + table[n,i-1]\n",
    "            \n",
    "            #column calculate\n",
    "            #print(\"i,i\")\n",
    "            table[i,n] = table[i,i] \n",
    "            \n",
    "        yield(table[n,n])\n",
    "\n",
    "partitions = gen_table()\n",
    "# for i in range(1001):\n",
    "    \n",
    "#     p = next(partitions)\n",
    "    \n",
    "#     if i % 100 == 0:\n",
    "#         print(f'{i} | {p}')\n",
    "\n",
    "sol = None\n",
    "n = 0\n",
    "while not sol:\n",
    "    n += 1\n",
    "    p = next(partitions)\n",
    "    \n",
    "    if n % 1000 == 0:\n",
    "        print(f'{n} | {p}')\n",
    "    \n",
    "    if p % 10**6 == 0:\n",
    "        sol = n"
   ]
  },
  {
   "cell_type": "code",
   "execution_count": 6,
   "metadata": {},
   "outputs": [
    {
     "name": "stdout",
     "output_type": "stream",
     "text": [
      "1\n",
      "2\n"
     ]
    }
   ],
   "source": [
    "for i in range(1,3):\n",
    "\n",
    "    \n",
    "    print(i)"
   ]
  },
  {
   "cell_type": "code",
   "execution_count": 2,
   "metadata": {},
   "outputs": [
    {
     "name": "stdout",
     "output_type": "stream",
     "text": [
      "[0, 1, 5, 12, 22, 35, 51, 70, 92, 117]\n",
      "[0.0, 1.0, 5.0, 12.0, 22.0, 35.0, 51.0, 70.0, 92.0, 117.0]\n",
      "0.0007648468017578125\n"
     ]
    }
   ],
   "source": [
    "import time\n",
    "start = time.time()\n",
    "\n",
    "def pentagonals_to_n(n, penties = [0, 1]):\n",
    "    \n",
    "    while n >= penties[-1]:\n",
    "        penties.append(2*penties[-1] - penties[-2] + 3)\n",
    "        \n",
    "    return(penties)\n",
    "\n",
    "def partitions(n, p_list=[1, 1]):\n",
    "    \n",
    "    p_next = 0\n",
    "    \n",
    "    while p_next >= 0:\n",
    "        \n",
    "        p_list[n] = \n",
    "        \n",
    "        \n",
    "        \n",
    "end = time.time()\n",
    "print(end - start)"
   ]
  },
  {
   "cell_type": "code",
   "execution_count": null,
   "metadata": {},
   "outputs": [],
   "source": [
    "import itertools as it\n",
    "\n",
    "def outer():\n",
    "    vals = inner()\n",
    "    for i in range(5):\n",
    "        print(next(vals))\n",
    "\n",
    "def inner():\n",
    "    yield(next(it.count()))\n",
    "\n",
    "outer()"
   ]
  },
  {
   "cell_type": "code",
   "execution_count": 14,
   "metadata": {},
   "outputs": [
    {
     "name": "stdout",
     "output_type": "stream",
     "text": [
      "10\n",
      "9\n",
      "4\n"
     ]
    },
    {
     "data": {
      "text/plain": [
       "4"
      ]
     },
     "execution_count": 14,
     "metadata": {},
     "output_type": "execute_result"
    }
   ],
   "source": [
    "import itertools as it\n",
    "import functools as ft\n",
    "import math\n",
    "\n",
    "@ft.lru_cache(None)\n",
    "def pentagon(n):\n",
    "    if n == 0:\n",
    "        p = 0\n",
    "    elif n == 1:\n",
    "        p = 1\n",
    "    else:\n",
    "        p = 2*pentagon(n-1) - pentagon(n-2) + 3\n",
    "    \n",
    "    return(p)\n",
    "\n",
    "pentagonals = map(pentagon, it.count())\n",
    "\n",
    "sign = it.cycle((1,-1))\n",
    "\n",
    "@ft.lru_cache(None)\n",
    "def partitions(n):\n",
    "    \n",
    "    if n == 0:\n",
    "        partition = 1\n",
    "    elif n == 1:\n",
    "        partition = 1\n",
    "    else:    \n",
    "        pentagonals = map(pentagon, it.count())\n",
    "        n_minus_pents = (n-p for p in pentagonals)\n",
    "        inputs = it.takewhile(lambda x: x >= 0, n_minus_pents)\n",
    "        \n",
    "        for n in inputs:\n",
    "            print(n)\n",
    "        \n",
    "        partition = 4\n",
    "#         lesser_partitions = map(partitions, inputs)\n",
    "#         altern = zip(sign,lesser_partitions)\n",
    "#         partition = sum(map(lambda a,b: a*b, altern))\n",
    "        \n",
    "    return(partition)\n",
    "        \n",
    "        \n",
    "partitions(10)\n"
   ]
  },
  {
   "cell_type": "code",
   "execution_count": 14,
   "metadata": {},
   "outputs": [
    {
     "name": "stdout",
     "output_type": "stream",
     "text": [
      "0\n",
      "1\n",
      "-1\n",
      "2\n",
      "-2\n",
      "3\n",
      "-3\n",
      "4\n",
      "-4\n",
      "5\n"
     ]
    }
   ],
   "source": [
    "import itertools as it\n",
    "\n",
    "iter1 = it.count()\n",
    "\n",
    "iter2 = zip(*it.tee(iter1, 2))\n",
    "\n",
    "int_pairs = zip(it.count(0,-1),it.count(1))\n",
    "#int_seq_star = it.chain(*int_pairs)\n",
    "## doesnt work cause * isnt lazy. https://stackoverflow.com/questions/62712696/is-there-a-way-to-lazy-unpack-an-infinite-generator\n",
    "int_sequence = it.chain.from_iterable(int_pairs)\n",
    "\n",
    "iter3 = it.chain.from_iterable(iter2)\n",
    "\n",
    "iter4 = it.count(0, -1)\n",
    "\n",
    "for i in range(10):\n",
    "    print(next(int_sequence))"
   ]
  },
  {
   "cell_type": "code",
   "execution_count": null,
   "metadata": {},
   "outputs": [],
   "source": [
    "from functools import lru_cache\n",
    "import itertools as it\n",
    "\n",
    "\n",
    "\n",
    "@lru_cache(None)\n",
    "def pentagonal(n):\n",
    "    p = (3*n**2-n)//2\n",
    "    return(p)\n",
    "\n",
    "\n",
    "@lru_cache(None)\n",
    "def partition(n):\n",
    "    \n",
    "    \n",
    "    if n == 0 or n == 1:\n",
    "        p = 1\n",
    "    else:\n",
    "        pents = list(it.takewhile(lambda pent: n >= pent, pentagonals))\n",
    "        inputs = [n-pent for pent in pents]\n",
    "        ps = [partition(input) for input in inputs]\n",
    "        alternating_ps = map(lambda x: x[1]*x[0], zip(ps,it.chain((1,),it.cycle((1,-1)))))\n",
    "        #print(list(alternating_ps))\n",
    "        p = sum(list(alternating_ps))   \n",
    "    return(p)\n",
    "        \n",
    "        \n",
    "print(partition(300))"
   ]
  },
  {
   "cell_type": "code",
   "execution_count": 24,
   "metadata": {
    "collapsed": true
   },
   "outputs": [
    {
     "name": "stdout",
     "output_type": "stream",
     "text": [
      "55374\n",
      "36325300925435785930832331577396761646715836173633893227071086460709268608053489541731404543537668438991170680745272159154493740615385823202158167635276250554555342115855424598920159035413044811245082197335097953570911884252410730174907784762924663654000000\n"
     ]
    }
   ],
   "source": [
    "from functools import lru_cache\n",
    "import itertools as it\n",
    "\n",
    "\n",
    "\n",
    "@lru_cache(None)\n",
    "def pentagonal(n):\n",
    "    p = (3*n**2-n)//2\n",
    "    return(p)\n",
    "\n",
    "#Again, the recursive version of the functions doesn't work :(. so I have to do\n",
    "#iterative. shucks. oh cmonnnnn\n",
    "\n",
    "def partition_table():\n",
    "    \n",
    "    table = {0 : 1, 1 : 1}\n",
    "    naturals = it.count(2)\n",
    "    \n",
    "    \n",
    "    for n in naturals:\n",
    "        int_pairs = zip(it.count(1),it.count(-1,-1))\n",
    "        int_sequence = it.chain.from_iterable(int_pairs)\n",
    "        pentagonals = (pentagonal(n) for n in int_sequence)\n",
    "        pents = it.takewhile(lambda pent: n >= pent, pentagonals)\n",
    "        inputs = (n-pent for pent in pents)\n",
    "        ps = (table[input] for input in inputs)\n",
    "        alternating_ps = list(map(lambda x: x[1]*x[0], zip(ps,it.cycle((1,1,-1,-1)))))\n",
    "        table[n] = sum(alternating_ps)\n",
    "    \n",
    "        yield(table[n])\n",
    "        \n",
    "partitions = partition_table()\n",
    "\n",
    "sol = None\n",
    "n = 1\n",
    "while not sol:\n",
    "    n += 1\n",
    "    p = next(partitions)\n",
    "    \n",
    "    #print(f'{n} | {p}')\n",
    "    \n",
    "    if p % 10**6 == 0:\n",
    "        sol = n\n",
    "print(sol)\n",
    "print(p)"
   ]
  },
  {
   "cell_type": "code",
   "execution_count": 10,
   "metadata": {},
   "outputs": [
    {
     "ename": "SyntaxError",
     "evalue": "unexpected EOF while parsing (<ipython-input-10-57fd95f00697>, line 4)",
     "output_type": "error",
     "traceback": [
      "\u001b[0;36m  File \u001b[0;32m\"<ipython-input-10-57fd95f00697>\"\u001b[0;36m, line \u001b[0;32m4\u001b[0m\n\u001b[0;31m    \u001b[0m\n\u001b[0m    ^\u001b[0m\n\u001b[0;31mSyntaxError\u001b[0m\u001b[0;31m:\u001b[0m unexpected EOF while parsing\n"
     ]
    }
   ],
   "source": [
    "def pent_stream():\n",
    "    pents = []\n",
    "    while True:\n",
    "        "
   ]
  },
  {
   "cell_type": "code",
   "execution_count": null,
   "metadata": {},
   "outputs": [],
   "source": [
    "l = [1,2,3]\n",
    "\n",
    "\n",
    "test1 = it.chain((1,),it.cycle((1,-1)))\n",
    "for i in range(5):\n",
    "    print(next(test1))\n",
    "\n",
    "print(list(enumerate(l)))"
   ]
  }
 ],
 "metadata": {
  "kernelspec": {
   "display_name": "Python 3",
   "language": "python",
   "name": "python3"
  },
  "language_info": {
   "codemirror_mode": {
    "name": "ipython",
    "version": 3
   },
   "file_extension": ".py",
   "mimetype": "text/x-python",
   "name": "python",
   "nbconvert_exporter": "python",
   "pygments_lexer": "ipython3",
   "version": "3.6.6+"
  }
 },
 "nbformat": 4,
 "nbformat_minor": 2
}
