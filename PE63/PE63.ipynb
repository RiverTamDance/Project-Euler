{
 "metadata": {
  "language_info": {
   "codemirror_mode": {
    "name": "ipython",
    "version": 3
   },
   "file_extension": ".py",
   "mimetype": "text/x-python",
   "name": "python",
   "nbconvert_exporter": "python",
   "pygments_lexer": "ipython3",
   "version": "3.8.5-final"
  },
  "orig_nbformat": 2,
  "kernelspec": {
   "name": "python3",
   "display_name": "Python 3.8.5 32-bit",
   "metadata": {
    "interpreter": {
     "hash": "e038aca183536c065caa68fd445da584dff35f22d3df5b409d065c2a6a435272"
    }
   }
  }
 },
 "nbformat": 4,
 "nbformat_minor": 2,
 "cells": [
  {
   "cell_type": "code",
   "execution_count": 3,
   "metadata": {},
   "outputs": [
    {
     "output_type": "stream",
     "name": "stdout",
     "text": [
      "(1, 1)\n(2, 2)\n(3, 3)\n(4, 4)\n(5, 5)\n(6, 6)\n(7, 7)\n(8, 8)\n(9, 9)\n(10, 10)\n(11, 11)\n(12, 12)\n(13, 13)\n(14, 14)\n(15, 15)\n(16, 16)\n(17, 17)\n(18, 18)\n(19, 19)\n(20, 20)\n(21, 21)\n(22, 21)\n"
     ]
    }
   ],
   "source": [
    "#looking at 9, for example\n",
    "\n",
    "#we have that 9**n = (10**log(9,10))**n\n",
    "#                  = 10**nlog(9,10)\n",
    "                   \n",
    "# and so long as n-1 <= nlog(9,10) < n, we are good\n",
    "#I want to find when n-1/n > log(9,10), \n",
    "import math\n",
    "\n",
    "n=1\n",
    "while (n-1)/n <= math.log(9,10):\n",
    "        \n",
    "    print((n, len(str(9**n))))\n",
    "\n",
    "    n += 1\n",
    "\n",
    "print((n, len(str(9**n))))\n"
   ]
  },
  {
   "cell_type": "code",
   "execution_count": 4,
   "metadata": {},
   "outputs": [
    {
     "output_type": "execute_result",
     "data": {
      "text/plain": [
       "[1, 2, 3, 4, 5, 6, 7, 8, 9]"
      ]
     },
     "metadata": {},
     "execution_count": 4
    }
   ],
   "source": [
    "list(range(1,10))"
   ]
  },
  {
   "cell_type": "code",
   "execution_count": null,
   "metadata": {},
   "outputs": [],
   "source": []
  }
 ]
}