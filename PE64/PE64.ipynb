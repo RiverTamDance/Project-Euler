{
 "cells": [
  {
   "cell_type": "code",
   "execution_count": 6,
   "metadata": {},
   "outputs": [],
   "source": [
    "from math import sqrt\n",
    "\n",
    "def next_frac(rat, m):\n",
    "    numer, denom = rat\n",
    "    numer, denom = denom, numer-m*denom\n",
    "    return((numer,denom))\n",
    "\n",
    "def new_numer_rat(rat, m):\n",
    "    #returns a double, with the frist entry being a list \n",
    "    numer, denom = rat\n",
    "    return(([numer, -1*m*denom], denom))\n",
    "\n",
    "def flip(flippable):\n",
    "    \"\"\"print(flip([1,2,3,4]))\n",
    "    works on tuples as well, hooray!\"\"\"\n",
    "    return flippable[::-1]\n",
    "\n",
    "def next_whole(rat):\n",
    "    #Get the largest integer that is less than numer/denom.\n",
    "    numer, denom = rat\n",
    "    return(numer // denom)\n",
    "\n",
    "\n"
   ]
  },
  {
   "cell_type": "code",
   "execution_count": 8,
   "metadata": {},
   "outputs": [
    {
     "name": "stdout",
     "output_type": "stream",
     "text": [
      "-4\n"
     ]
    }
   ],
   "source": [
    "p = 4\n",
    "print(-p)"
   ]
  },
  {
   "cell_type": "code",
   "execution_count": 7,
   "metadata": {},
   "outputs": [
    {
     "name": "stdout",
     "output_type": "stream",
     "text": [
      "(1, 0.8989794855663558)\n"
     ]
    }
   ],
   "source": [
    "n = sqrt(24)\n",
    "\n",
    "rat1 = (n,1)\n",
    "m = next_whole(rat1)\n",
    "rat1 = new_numer_rat(rat1, m)\n",
    "rat1 = flip(rat1)\n",
    "\n",
    "print(rat1)"
   ]
  },
  {
   "cell_type": "code",
   "execution_count": null,
   "metadata": {},
   "outputs": [],
   "source": [
    "while i < 8:\n",
    "    i += 1\n",
    "    print(i)\n",
    "\n",
    "# the error in this code shows that i has to be initialised before the loop can get going."
   ]
  }
 ],
 "metadata": {
  "interpreter": {
   "hash": "bf377b707728dbec1040007a52e86a91032ba5ee0a26fb143bb1a04f53bc0a5c"
  },
  "kernelspec": {
   "display_name": "Python 3.9.10 ('DataScience')",
   "language": "python",
   "name": "python3"
  },
  "language_info": {
   "codemirror_mode": {
    "name": "ipython",
    "version": 3
   },
   "file_extension": ".py",
   "mimetype": "text/x-python",
   "name": "python",
   "nbconvert_exporter": "python",
   "pygments_lexer": "ipython3",
   "version": "3.9.10"
  },
  "orig_nbformat": 4
 },
 "nbformat": 4,
 "nbformat_minor": 2
}
