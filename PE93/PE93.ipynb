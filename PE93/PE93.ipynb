{
 "cells": [
  {
   "cell_type": "code",
   "execution_count": 14,
   "metadata": {},
   "outputs": [
    {
     "name": "stdout",
     "output_type": "stream",
     "text": [
      "[[], [], [], [], [], [], [], [], [], [], [], [], [], [], [], [], [], [], [], [], [], [], [], [], [], [], [], [], [], [], [], [], [], [], [], [], [], [], [], [], [], [], [], [], [], [], [], [], [], [], [], [], [], [], [], [], [], [], [], [], [], [], [], []]\n"
     ]
    }
   ],
   "source": [
    "import operator as o\n",
    "import itertools as it\n",
    "\n",
    "def one_expression(ops, ns):\n",
    "\n",
    "    op1, op2, op3 = ops\n",
    "    n1, n2, n3, n4 = ns\n",
    "\n",
    "    def f(g, a, b):\n",
    "        return(g(a,b))\n",
    "\n",
    "    p1 = f(op1, n1, n2)\n",
    "    p2 = f(op2, p1, n3)\n",
    "    total = f(op3, p2, n4)\n",
    "\n",
    "    return(total)\n",
    "\n",
    "# ops=(o.add,o.add,o.add)\n",
    "# ns = (1, 2, 3, 4)\n",
    "\n",
    "op_list = [o.add, o.mul, o.sub, o.truediv]\n",
    "op_cart = list(it.product(op_list, repeat = 3))\n",
    "\n",
    "#n_list = [1,2,3,4,5,6,7,8,9,10]\n",
    "n_list = [1,2,3,4]\n",
    "n_possibilities = list(it.combinations(n_list, 4))\n",
    "\n",
    "solutions = []\n",
    "for four_n in n_possibilities:\n",
    "\n",
    "    n_cart = list(it.permutations(four_n, 4))\n",
    "\n",
    "    for ops in op_cart:\n",
    "        \n",
    "        #remove duplicates\n",
    "        solution_union = list(set([one_expression(ops, ns) for ns in n_cart]))\n",
    "        #sort and remove negatives\n",
    "        solution = sorted([i for i in solution if i > 0])\n",
    "        #remove non-whole numbers\n",
    "        solutions.append(solution)\n",
    "print(solutions)"
   ]
  },
  {
   "cell_type": "code",
   "execution_count": 12,
   "metadata": {},
   "outputs": [
    {
     "data": {
      "text/plain": [
       "{1, 2, 3, 4, 5, 6, 7}"
      ]
     },
     "execution_count": 12,
     "metadata": {},
     "output_type": "execute_result"
    }
   ],
   "source": [
    "set().union(*[{1,2,3},{3,4,5},{5,6,7}])"
   ]
  },
  {
   "cell_type": "code",
   "execution_count": null,
   "metadata": {},
   "outputs": [],
   "source": [
    "import operator as o\n",
    "import itertools as it\n",
    "\n",
    "def one_expression(ops, ns):\n",
    "\n",
    "    op1, op2, op3 = ops\n",
    "    n1, n2, n3, n4 = ns\n",
    "\n",
    "    def f(g, a, b):\n",
    "        return(g(a,b))\n",
    "\n",
    "    p1 = f(op1, n1, n2)\n",
    "    p2 = f(op2, p1, n3)\n",
    "    total = f(op3, p2, n4)\n",
    "\n",
    "    return(total)\n",
    "\n",
    "\n",
    "\n",
    "\n",
    "\n",
    "op_list = [o.add, o.mul, o.sub, o.truediv]\n",
    "op_cart = list(it.product(op_list, repeat = 3))\n",
    "print(len(op_cart))\n",
    "four_n = [1, 4, 6, 9]\n",
    "n_cart = list(it.permutations(four_n, 4))\n",
    "print(len(n_cart))\n",
    "\n",
    "count_and_fours = []\n",
    "solutions = []\n",
    "for ops in op_cart:\n",
    "\n",
    "    #list of lists of all outputs for a given ops and all perms of ns.\n",
    "    solutions.append([one_expression(ops, ns) for ns in n_cart])\n",
    "\n",
    "#union together all the solution sets (so this is now across all ops and perms of [x1, x2, x3, x4])\n",
    "#This should be 1536: 24 ways to permute 4 numbers, and 64 ways to take 3 operators with repeats from 4.\n",
    "# print(len(solutions))\n",
    "# print(len(solutions[0]))\n",
    "# mast = []\n",
    "# for l in solutions:\n",
    "#     mast = mast + l\n",
    "# print(len(mast))\n",
    "\n",
    "solutions = list(set().union(*solutions))\n",
    "print(solutions)\n",
    "#remove non-whole numbers\n",
    "solutions = [int(i) for i in solutions if i % 1 == 0]\n",
    "#remove negatives and sort\n",
    "solutions = sorted([i for i in solutions if i > 0])\n",
    "\n",
    "\n",
    "sol_count = list(zip(solutions,it.count(1)))\n",
    "count_and_fours.append([len(list(it.takewhile(lambda x: x[0] == x[1], sol_count)))] + [four_n])\n",
    "\n",
    "print(sol_count)"
   ]
  },
  {
   "cell_type": "code",
   "execution_count": 28,
   "metadata": {},
   "outputs": [
    {
     "name": "stdout",
     "output_type": "stream",
     "text": [
      "4.0\n"
     ]
    }
   ],
   "source": [
    "import itertools as it\n",
    "from math import gcd\n",
    "\n",
    "def add_rat(rat1, rat2):\n",
    "    a,b = rat1\n",
    "    c,d = rat2\n",
    "    return((a*d + c*b, b*d))\n",
    "\n",
    "def sub_rat(rat1, rat2):\n",
    "    a,b = rat1\n",
    "    c,d = rat2\n",
    "    return((a*d - c*b, b*d))\n",
    "\n",
    "def mul_rat(rat1, rat2):\n",
    "    a,b = rat1\n",
    "    c,d = rat2\n",
    "    return((a*c, b*d))\n",
    "\n",
    "def div_rat(rat1, rat2):\n",
    "    a,b = rat1\n",
    "    c,d = rat2\n",
    "    return((a*d, b*c))\n",
    "\n",
    "def one_expression(ops, ns):\n",
    "\n",
    "    op1, op2, op3 = ops\n",
    "\n",
    "    n1 = (ns[0], 1)\n",
    "    n2 = (ns[1], 1)\n",
    "    n3 = (ns[2], 1)\n",
    "    n4 = (ns[3], 1)\n",
    "\n",
    "    def f(g, a, b):\n",
    "        return(g(a,b))\n",
    "\n",
    "    p1 = f(op1, n1, n2)\n",
    "    p2 = f(op2, p1, n3)\n",
    "    p3 = f(op3, p2, n4)\n",
    "\n",
    "    total = p3[0]/p3[1]\n",
    "\n",
    "    return(total)\n",
    "\n",
    "ops = (add_rat, sub_rat, mul_rat)\n",
    "ns = (1,4,3,2)\n",
    "\n",
    "print(one_expression(ops,ns))"
   ]
  },
  {
   "cell_type": "code",
   "execution_count": 29,
   "metadata": {},
   "outputs": [
    {
     "data": {
      "text/plain": [
       "3.0"
      ]
     },
     "execution_count": 29,
     "metadata": {},
     "output_type": "execute_result"
    }
   ],
   "source": [
    "9/3"
   ]
  },
  {
   "cell_type": "code",
   "execution_count": null,
   "metadata": {},
   "outputs": [],
   "source": []
  }
 ],
 "metadata": {
  "interpreter": {
   "hash": "bf377b707728dbec1040007a52e86a91032ba5ee0a26fb143bb1a04f53bc0a5c"
  },
  "kernelspec": {
   "display_name": "Python 3.9.10 ('DataScience')",
   "language": "python",
   "name": "python3"
  },
  "language_info": {
   "codemirror_mode": {
    "name": "ipython",
    "version": 3
   },
   "file_extension": ".py",
   "mimetype": "text/x-python",
   "name": "python",
   "nbconvert_exporter": "python",
   "pygments_lexer": "ipython3",
   "version": "3.9.10"
  },
  "orig_nbformat": 4
 },
 "nbformat": 4,
 "nbformat_minor": 2
}
