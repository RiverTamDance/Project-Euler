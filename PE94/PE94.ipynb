{
 "cells": [
  {
   "cell_type": "code",
   "execution_count": null,
   "metadata": {},
   "outputs": [],
   "source": [
    "#How many squares between 0 and 10**18?\n",
    "import itertools as it\n",
    "print(len(list(it.takewhile(lambda x: x <= 10**18, map(lambda x: x**2, it.count(1))))))"
   ]
  },
  {
   "cell_type": "code",
   "execution_count": 28,
   "metadata": {},
   "outputs": [
    {
     "name": "stdout",
     "output_type": "stream",
     "text": [
      "[0.0, 12.0, 1848.0, 351780.0, 68149872.0, 13219419708.0, 2564481115560.0, 497495864091732.0, 1.7696180071908738e+16, 2.77168930609527e+16, 3.997633735034589e+16, 5.9413752799803064e+16, 7.121141983017992e+16, 7.684332556479571e+16, 9.018705802062078e+16, 9.651162963013757e+16, 1.1841866499582867e+17, 1.256502140477747e+17, 1.4256443166186898e+17]\n",
      "[1.4853438039554664e+16, 2.4127907203106504e+16, 3.564110766700757e+16, 4.939303943125785e+16, 5.410139064784098e+16, 6.538370249585737e+16, 7.0784719587341496e+16, 8.36130968608061e+16, 8.970677982719123e+16, 1.108675713673902e+17, 1.178682317762046e+17, 1.3426709420793838e+17, 1.4196042049165381e+17]\n"
     ]
    }
   ],
   "source": [
    "import math as mt\n",
    "\n",
    "# squares2 = {x**2 for x in range(10**0, 10**1)}\n",
    "# twice_squares1 = set()\n",
    "\n",
    "# for i in range(2, 8):\n",
    "\n",
    "#     squares1 = squares2\n",
    "#     squares2 = {x**2 for x in range(10 **(i-1), 10**i)}\n",
    "#     squares = squares1.union(squares2)\n",
    "#     not_quite_squares = {4+3*x for x in squares1}\n",
    "#     twice_squares1 = twice_squares1.union(squares.intersection(not_quite_squares))\n",
    "sols_y1 = []\n",
    "sols_y2 = []\n",
    "#This is wrong, x has to be a multiple of four which means i should take step sizes of 2 not 4.\n",
    "for i in range(0, 10**9, 4):\n",
    "\n",
    "    x = i**2\n",
    "    y1 = mt.sqrt(4 + 3*x) + 1\n",
    "    y2 = mt.sqrt(4 + 3*x) - 1\n",
    "\n",
    "    if y1 == y1 // 1:\n",
    "        sols_y1.append(y1)\n",
    "\n",
    "    if y2 == y2 // 1:\n",
    "        sols_y2.append(y2)\n",
    "\n",
    "sols_s1 = [y/3 for y in sols_y1 if y % 3 == 0]\n",
    "sols_s2 = [y/3 for y in sols_y2 if y % 3 == 0]\n",
    "\n",
    "area1 = [((s+1)*(3*s**2-2*s-1)**(1/2))/4 for s in sols_s1]\n",
    "area2 = [((s-1)*(3*s**2+2*s-1)**(1/2))/4 for s in sols_s2]\n",
    "\n",
    "\n",
    "print(area1)\n",
    "print(area2)\n",
    "#squares = {i**2 for i in range(10**7)}\n"
   ]
  },
  {
   "cell_type": "code",
   "execution_count": 44,
   "metadata": {},
   "outputs": [
    {
     "name": "stdout",
     "output_type": "stream",
     "text": [
      "4511037031.0\n",
      "[16.0, 196.0, 2704.0, 37636.0, 524176.0, 7300804.0, 101687056.0, 606471925.0, 759002506.0, 911533087.0, 555628394.0, 708158975.0, 860689556.0]\n",
      "[1.0, 5.0, 65.0, 901.0, 12545.0, 174725.0, 2433601.0, 33895685.0, 202157308.0, 253000835.0, 303844362.0]\n",
      "[185209465.0, 236052992.0, 286896519.0]\n"
     ]
    }
   ],
   "source": [
    "sols_s1 = [y/3 for y in sols_y1 if y % 3 == 0]\n",
    "sols_s2 = [y/3 for y in sols_y2 if y % 3 == 0]\n",
    "\n",
    "sols_s1 = [s for s in sols_s1 if s <= 333333333]\n",
    "sols_s2 = [s for s in sols_s2 if s <= 333333333]\n",
    "\n",
    "perim1 = [3*s+1 for s in sols_s1 if s != 1]\n",
    "perim2 = [3*s-1 for s in sols_s2]\n",
    "\n",
    "print(sum(perim1 + perim2))\n",
    "print(perim1+perim2)\n",
    "print(sols_s1)\n",
    "print(sols_s2)"
   ]
  },
  {
   "cell_type": "code",
   "execution_count": null,
   "metadata": {},
   "outputs": [],
   "source": [
    "Area = [((s+1)*(3*s**2-2*s-1)**(1/2))/4 for s in sols_s]\n",
    "\n",
    "area_check = [s for s in sols_s if ((s+1)*(3*s**2-2*s-1)**(1/2))/4 % 1 == 0]\n",
    "\n",
    "Area_whole = [ A for A in Area if A % 1 == 0]\n",
    "\n",
    "print(len(Area))\n",
    "print(len(Area_whole))\n",
    "print(Area_whole)\n",
    "\n",
    "answer = sum([3*s+1 for s in sols_s if s <= 333000000])\n",
    "print(answer)"
   ]
  },
  {
   "cell_type": "code",
   "execution_count": 43,
   "metadata": {},
   "outputs": [
    {
     "name": "stdout",
     "output_type": "stream",
     "text": [
      "12.25\n",
      "13.795918367346939\n"
     ]
    }
   ],
   "source": [
    "print(196/16)\n",
    "print(2704/196)\n",
    "    "
   ]
  },
  {
   "cell_type": "code",
   "execution_count": 1,
   "metadata": {},
   "outputs": [
    {
     "name": "stdout",
     "output_type": "stream",
     "text": [
      "[333333328, 333333330, 333333332]\n"
     ]
    }
   ],
   "source": [
    "nums = [i for i in range(1, 333333334, 2)]\n",
    "\n",
    "print(nums[-3:])"
   ]
  },
  {
   "cell_type": "markdown",
   "metadata": {},
   "source": []
  },
  {
   "cell_type": "code",
   "execution_count": 1,
   "metadata": {},
   "outputs": [
    {
     "data": {
      "text/plain": [
       "[0, 1, 2, 3, 4, 5]"
      ]
     },
     "execution_count": 1,
     "metadata": {},
     "output_type": "execute_result"
    }
   ],
   "source": [
    "[ i for i in range (6) ]"
   ]
  }
 ],
 "metadata": {
  "interpreter": {
   "hash": "bf377b707728dbec1040007a52e86a91032ba5ee0a26fb143bb1a04f53bc0a5c"
  },
  "kernelspec": {
   "display_name": "Python 3",
   "language": "python",
   "name": "python3"
  },
  "language_info": {
   "codemirror_mode": {
    "name": "ipython",
    "version": 3
   },
   "file_extension": ".py",
   "mimetype": "text/x-python",
   "name": "python",
   "nbconvert_exporter": "python",
   "pygments_lexer": "ipython3",
   "version": "3.6.6+"
  }
 },
 "nbformat": 4,
 "nbformat_minor": 2
}
