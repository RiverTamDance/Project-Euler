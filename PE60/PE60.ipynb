{
 "metadata": {
  "language_info": {
   "codemirror_mode": {
    "name": "ipython",
    "version": 3
   },
   "file_extension": ".py",
   "mimetype": "text/x-python",
   "name": "python",
   "nbconvert_exporter": "python",
   "pygments_lexer": "ipython3",
   "version": "3.8.5-final"
  },
  "orig_nbformat": 2,
  "kernelspec": {
   "name": "python3",
   "display_name": "Python 3.8.5 32-bit",
   "metadata": {
    "interpreter": {
     "hash": "e038aca183536c065caa68fd445da584dff35f22d3df5b409d065c2a6a435272"
    }
   }
  }
 },
 "nbformat": 4,
 "nbformat_minor": 2,
 "cells": [
  {
   "cell_type": "code",
   "execution_count": 8,
   "metadata": {},
   "outputs": [
    {
     "output_type": "execute_result",
     "data": {
      "text/plain": [
       "[1, 2, 3, 4, 5]"
      ]
     },
     "metadata": {},
     "execution_count": 8
    }
   ],
   "source": [
    "list(range(1,len(\"banana\")))"
   ]
  },
  {
   "cell_type": "code",
   "execution_count": 10,
   "metadata": {},
   "outputs": [
    {
     "output_type": "execute_result",
     "data": {
      "text/plain": [
       "'a'"
      ]
     },
     "metadata": {},
     "execution_count": 10
    }
   ],
   "source": [
    "\"banana\"[:5]\n",
    "\"banana\"[5:]"
   ]
  },
  {
   "cell_type": "code",
   "execution_count": 11,
   "metadata": {},
   "outputs": [
    {
     "output_type": "error",
     "ename": "KeyError",
     "evalue": "1",
     "traceback": [
      "\u001b[1;31m---------------------------------------------------------------------------\u001b[0m",
      "\u001b[1;31mKeyError\u001b[0m                                  Traceback (most recent call last)",
      "\u001b[1;32m<ipython-input-11-436458dd43b6>\u001b[0m in \u001b[0;36m<module>\u001b[1;34m\u001b[0m\n\u001b[0;32m      1\u001b[0m \u001b[0mgraph_dict\u001b[0m \u001b[1;33m=\u001b[0m \u001b[1;33m{\u001b[0m\u001b[1;33m}\u001b[0m\u001b[1;33m\u001b[0m\u001b[1;33m\u001b[0m\u001b[0m\n\u001b[1;32m----> 2\u001b[1;33m \u001b[0mgraph_dict\u001b[0m\u001b[1;33m[\u001b[0m\u001b[1;36m1\u001b[0m\u001b[1;33m]\u001b[0m\u001b[1;33m\u001b[0m\u001b[1;33m\u001b[0m\u001b[0m\n\u001b[0m",
      "\u001b[1;31mKeyError\u001b[0m: 1"
     ]
    }
   ],
   "source": [
    "graph_dict = {}\n",
    "graph_dict[1]"
   ]
  },
  {
   "cell_type": "code",
   "execution_count": 19,
   "metadata": {},
   "outputs": [
    {
     "output_type": "execute_result",
     "data": {
      "text/plain": [
       "{2, 99}"
      ]
     },
     "metadata": {},
     "execution_count": 19
    }
   ],
   "source": [
    "subprimes = [[1,2],[2,3],[2,100],[3,99]]\n",
    "\n",
    "flat_subprimes = {p for pair in subprimes for p in pair}\n",
    "\n",
    "graph_dict = {node : {adj_node for edge in [edge for edge in subprimes if node in edge] for adj_node in edge if adj_node != node} for node in flat_subprimes}\n",
    "\n",
    "graph_dict[3]\n",
    "#{adj_p for ppair in [ppair for ppair in subprimes if p in ppair] for adj_p in ppair if adj_p != p}"
   ]
  },
  {
   "cell_type": "code",
   "execution_count": 29,
   "metadata": {},
   "outputs": [
    {
     "output_type": "stream",
     "name": "stdout",
     "text": [
      "[[1, 2, 3, 4, 5]]\n"
     ]
    }
   ],
   "source": [
    "testvals = []\n",
    "for a in range(1,6):\n",
    "    for b in range(1,6):\n",
    "        testvals.append([a,b])\n",
    "\n",
    "subprimes = testvals\n",
    "\n",
    "flat_subprimes = {p for pair in subprimes for p in pair}\n",
    "graph_dict = {node : {adj_node for edge in [edge for edge in subprimes if node in edge] \n",
    "             for adj_node in edge if adj_node != node} for node in flat_subprimes}\n",
    "\n",
    "def cycle_delver(node, n, subgraph):\n",
    "\n",
    "    #Hmmm i'm really not sure if this base case helps us exit properly\n",
    "    \n",
    "    #now I can assume that the   list graph_dict[node] is sorted. which is v useful. \n",
    "\n",
    "    if n == 0:\n",
    "        return([[node]])\n",
    "    else:\n",
    "        paths = []\n",
    "        for adj_node in graph_dict[node]:\n",
    "            if adj_node > node:\n",
    "                if graph_dict[adj_node].issuperset(subgraph):\n",
    "                    paths = paths + [[node] + path for path in cycle_delver(adj_node, n-1, subgraph.union({adj_node}))]\n",
    "\n",
    "        return(paths)\n",
    "\n",
    "        ###the issue with nogo is that [2,3,2] becomes [2,3,[]] or something and thats not permitted so it fails. need to think.\n",
    "        \n",
    "        #return([[node] + path for path in [more_itertools.collapse(cycle_delver(adj_node, n-1)) for adj_node in graph_dict[node]]])\n",
    "\n",
    "# print(graph_dict[2].issuperset({}))\n",
    "#print(graph_dict)\n",
    "# print(set().issuperset({2}))\n",
    "print(cycle_delver(1,4,{1}))"
   ]
  },
  {
   "cell_type": "code",
   "execution_count": 41,
   "metadata": {},
   "outputs": [
    {
     "output_type": "stream",
     "name": "stdout",
     "text": [
      "[[1], [2], [3], [4], 3]\n"
     ]
    },
    {
     "output_type": "execute_result",
     "data": {
      "text/plain": [
       "[[0, 2],\n",
       " [1, 2],\n",
       " [2, 2],\n",
       " [3, 2],\n",
       " [4, 2],\n",
       " [5, 2],\n",
       " [6, 2],\n",
       " [7, 2],\n",
       " [8, 2],\n",
       " [9, 2]]"
      ]
     },
     "metadata": {},
     "execution_count": 41
    }
   ],
   "source": [
    "banh = [[1],[2],[3]]\n",
    "\n",
    "oi = [*banh,[4]]\n",
    "\n",
    "oi.append(3)\n",
    "\n",
    "print(oi)\n",
    "#[*[4]].append(3)\n",
    "\n",
    "\n",
    "[[i]+[2] for i in range(10)]"
   ]
  },
  {
   "cell_type": "code",
   "execution_count": 1,
   "metadata": {},
   "outputs": [
    {
     "output_type": "execute_result",
     "data": {
      "text/plain": [
       "[]"
      ]
     },
     "metadata": {},
     "execution_count": 1
    }
   ],
   "source": [
    "for i in []:\n",
    "    print(\"hello\")\n",
    "\n",
    "[ [2] + i for i in [] ]"
   ]
  },
  {
   "cell_type": "code",
   "execution_count": 30,
   "metadata": {},
   "outputs": [
    {
     "output_type": "stream",
     "name": "stdout",
     "text": [
      "set()\n"
     ]
    }
   ],
   "source": [
    "import sys\n",
    "sys.path.insert(1, 'C:\\\\Users\\\\Taylor\\\\OneDrive\\\\Documents\\\\Project Euler\\\\Useful Functions\\\\')\n",
    "from prime import primeList, isPrime\n",
    "\n",
    "#Here I begin building my list elidgible prime pairs\n",
    "#primes = primeList(1000000)\n",
    "prime_set = {193}\n",
    "\n",
    "subprimes = []\n",
    "\n",
    "for p in prime_set:\n",
    "\n",
    "    p_str = str(p)\n",
    "\n",
    "    for i in range(1,len(p_str)):\n",
    "        if prime_set.issuperset({int(p_str[:i]), int(p_str[i:]), int(p_str[i:] + p_str[:i])}):\n",
    "            subprimes.append([int(p_str[:i]), int(p_str[i:])])\n",
    "            \n",
    "#I have now built the list of elidgible prime pairs. \n",
    "\n",
    "flat_subprimes = {p for pair in subprimes for p in pair}\n",
    "# graph_dict = {node : {adj_node for edge in [edge for edge in subprimes if node in edge] \n",
    "#              for adj_node in edge if adj_node != node} for node in flat_subprimes}\n",
    "\n",
    "print(flat_subprimes)"
   ]
  },
  {
   "cell_type": "code",
   "execution_count": 31,
   "metadata": {},
   "outputs": [
    {
     "output_type": "stream",
     "name": "stdout",
     "text": [
      "[1, 2]\n19\n3\n319\n"
     ]
    }
   ],
   "source": [
    "print(list(range(1,len(str(193)))))\n",
    "print(str(193)[:2])\n",
    "print(str(193)[2:])\n",
    "print(str(193)[2:]+str(193)[:2])"
   ]
  },
  {
   "cell_type": "code",
   "execution_count": 34,
   "metadata": {},
   "outputs": [
    {
     "output_type": "stream",
     "name": "stdout",
     "text": [
      "[]\n"
     ]
    }
   ],
   "source": [
    "prime_set = {3,19,193}\n",
    "\n",
    "p = 193\n",
    "p_str = str(p)\n",
    "suprimes = []\n",
    "\n",
    "for i in range(1,len(p_str)):\n",
    "    if prime_set.issuperset({int(p_str[:i]), int(p_str[i:]), int(p_str[i:] + p_str[:i])}):\n",
    "        subprimes.append([int(p_str[:i]), int(p_str[i:])])\n",
    "\n",
    "print(subprimes)"
   ]
  },
  {
   "cell_type": "code",
   "execution_count": 20,
   "metadata": {},
   "outputs": [
    {
     "output_type": "stream",
     "name": "stdout",
     "text": [
      "{5, 6}\n"
     ]
    }
   ],
   "source": [
    "banana = {5}\n",
    "\n",
    "g = 6\n",
    "\n",
    "z = banana.union({g})\n",
    "\n",
    "banana.add(2)\n",
    "\n",
    "print(z)"
   ]
  },
  {
   "cell_type": "code",
   "execution_count": 22,
   "metadata": {},
   "outputs": [
    {
     "output_type": "execute_result",
     "data": {
      "text/plain": [
       "[1, 2, 3, 4]"
      ]
     },
     "metadata": {},
     "execution_count": 22
    }
   ],
   "source": [
    "list(range(1,5))"
   ]
  },
  {
   "cell_type": "code",
   "execution_count": 34,
   "metadata": {},
   "outputs": [
    {
     "output_type": "stream",
     "name": "stdout",
     "text": [
      "[[7, 7], [1, 1], [1, 2], [1, 3], [1, 4], [1, 5], [2, 1], [2, 2], [2, 3], [2, 4], [2, 5], [3, 1], [3, 2], [3, 3], [3, 4], [3, 5], [4, 1], [4, 2], [4, 3], [4, 4], [4, 5], [5, 1], [5, 2], [5, 3], [5, 4], [5, 5]]\n"
     ]
    }
   ],
   "source": [
    "testvals = []\n",
    "for a in range(1,6):\n",
    "    for b in range(1,6):\n",
    "        testvals.append([a,b])\n",
    "\n",
    "test2 = [[7,7]]\n",
    "\n",
    "test2 = test2 + testvals\n",
    "\n",
    "\n",
    "\n",
    "print(test2)"
   ]
  },
  {
   "cell_type": "code",
   "execution_count": 35,
   "metadata": {},
   "outputs": [
    {
     "output_type": "execute_result",
     "data": {
      "text/plain": [
       "[5, 5, 5]"
      ]
     },
     "metadata": {},
     "execution_count": 35
    }
   ],
   "source": [
    "[5]*3"
   ]
  },
  {
   "cell_type": "code",
   "execution_count": 36,
   "metadata": {},
   "outputs": [
    {
     "output_type": "error",
     "ename": "ModuleNotFoundError",
     "evalue": "No module named 'numpy'",
     "traceback": [
      "\u001b[1;31m---------------------------------------------------------------------------\u001b[0m",
      "\u001b[1;31mModuleNotFoundError\u001b[0m                       Traceback (most recent call last)",
      "\u001b[1;32m<ipython-input-36-fe27fdcac552>\u001b[0m in \u001b[0;36m<module>\u001b[1;34m\u001b[0m\n\u001b[1;32m----> 1\u001b[1;33m \u001b[1;32mimport\u001b[0m \u001b[0mnumpy\u001b[0m \u001b[1;32mas\u001b[0m \u001b[0mnp\u001b[0m\u001b[1;33m\u001b[0m\u001b[1;33m\u001b[0m\u001b[0m\n\u001b[0m\u001b[0;32m      2\u001b[0m \u001b[1;33m\u001b[0m\u001b[0m\n\u001b[0;32m      3\u001b[0m \u001b[1;32mdef\u001b[0m \u001b[0mprimesfrom2to\u001b[0m\u001b[1;33m(\u001b[0m\u001b[0mn\u001b[0m\u001b[1;33m)\u001b[0m\u001b[1;33m:\u001b[0m\u001b[1;33m\u001b[0m\u001b[1;33m\u001b[0m\u001b[0m\n\u001b[0;32m      4\u001b[0m     \u001b[1;31m# https://stackoverflow.com/questions/2068372/fastest-way-to-list-all-primes-below-n-in-python/3035188#3035188\u001b[0m\u001b[1;33m\u001b[0m\u001b[1;33m\u001b[0m\u001b[1;33m\u001b[0m\u001b[0m\n\u001b[0;32m      5\u001b[0m     \u001b[1;34m\"\"\" Input n>=6, Returns a array of primes, 2 <= p < n \"\"\"\u001b[0m\u001b[1;33m\u001b[0m\u001b[1;33m\u001b[0m\u001b[0m\n",
      "\u001b[1;31mModuleNotFoundError\u001b[0m: No module named 'numpy'"
     ]
    }
   ],
   "source": [
    "import numpy as np\n",
    "\n",
    "def primesfrom2to(n):\n",
    "    # https://stackoverflow.com/questions/2068372/fastest-way-to-list-all-primes-below-n-in-python/3035188#3035188\n",
    "    \"\"\" Input n>=6, Returns a array of primes, 2 <= p < n \"\"\"\n",
    "    sieve = np.ones(n/3 + (n%6==2), dtype=np.bool)\n",
    "    sieve[0] = False\n",
    "    for i in range(int(n**0.5)/3+1):\n",
    "        if sieve[i]:\n",
    "            k=3*i+1|1\n",
    "            sieve[      ((k*k)/3)      ::2*k] = False\n",
    "            sieve[(k*k+4*k-2*k*(i&1))/3::2*k] = False\n",
    "    return np.r_[2,3,((3*np.nonzero(sieve)[0]+1)|1)]\n",
    "\n",
    "print(primesfrom2to(1000000))"
   ]
  },
  {
   "cell_type": "code",
   "execution_count": null,
   "metadata": {},
   "outputs": [],
   "source": []
  }
 ]
}