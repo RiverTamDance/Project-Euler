{
 "metadata": {
  "language_info": {
   "codemirror_mode": {
    "name": "ipython",
    "version": 3
   },
   "file_extension": ".py",
   "mimetype": "text/x-python",
   "name": "python",
   "nbconvert_exporter": "python",
   "pygments_lexer": "ipython3",
   "version": "3.8.5-final"
  },
  "orig_nbformat": 2,
  "kernelspec": {
   "name": "python3",
   "display_name": "Python 3.8.5 32-bit",
   "metadata": {
    "interpreter": {
     "hash": "e038aca183536c065caa68fd445da584dff35f22d3df5b409d065c2a6a435272"
    }
   }
  }
 },
 "nbformat": 4,
 "nbformat_minor": 2,
 "cells": [
  {
   "cell_type": "code",
   "execution_count": 11,
   "metadata": {},
   "outputs": [
    {
     "output_type": "stream",
     "name": "stdout",
     "text": [
      "defaultdict(<class 'list'>, {(('a', 1), ('k', 1), ('o', 1), ('y', 1)): ['okay', 'yako', 'koay'], (('d', 1), ('o', 1), ('t', 1)): ['tod'], (('a', 3), ('b', 1), ('n', 2)): ['banana']})\n"
     ]
    }
   ],
   "source": [
    "from collections import Counter, defaultdict\n",
    "from math import ceil, floor\n",
    "\n",
    "n = 5\n",
    "cubes_len_n = [str(b**3) for b in range(ceil((10**((n-1)/3))), floor(10**((n)/3) + 1))]\n",
    "\n",
    "strs = [\"okay\",\"yako\",\"tod\",\"banana\",\"koay\"]\n",
    "\n",
    "cnts_dict = defaultdict(list)\n",
    "for c in strs:\n",
    "    \n",
    "    tup_counter = tuple((k,Counter(c)[k]) for k in sorted(Counter(c).keys()))\n",
    "    #obviously the problem is right around here. I don't like having to use the\n",
    "    #for loop, mind you. ah well, problem for tomorrow!\n",
    "    \n",
    "    cnts_dict[tup_counter].append(c)\n",
    "\n",
    "print(cnts_dict)\n"
   ]
  },
  {
   "cell_type": "code",
   "execution_count": 5,
   "metadata": {},
   "outputs": [
    {
     "output_type": "stream",
     "name": "stdout",
     "text": [
      "[1, 2, 3, 4]\n"
     ]
    }
   ],
   "source": [
    "print(list(range(1,5)))"
   ]
  },
  {
   "cell_type": "code",
   "execution_count": 26,
   "metadata": {},
   "outputs": [
    {
     "output_type": "stream",
     "name": "stdout",
     "text": [
      "{'10648': (('1', 1), ('0', 1), ('6', 1), ('4', 1), ('8', 1)), '12167': (('1', 2), ('2', 1), ('6', 1), ('7', 1)), '13824': (('1', 1), ('3', 1), ('8', 1), ('2', 1), ('4', 1)), '15625': (('1', 1), ('5', 2), ('6', 1), ('2', 1)), '17576': (('1', 1), ('7', 2), ('5', 1), ('6', 1)), '19683': (('1', 1), ('9', 1), ('6', 1), ('8', 1), ('3', 1)), '21952': (('2', 2), ('1', 1), ('9', 1), ('5', 1)), '24389': (('2', 1), ('4', 1), ('3', 1), ('8', 1), ('9', 1)), '27000': (('2', 1), ('7', 1), ('0', 3)), '29791': (('2', 1), ('9', 2), ('7', 1), ('1', 1)), '32768': (('3', 1), ('2', 1), ('7', 1), ('6', 1), ('8', 1)), '35937': (('3', 2), ('5', 1), ('9', 1), ('7', 1)), '39304': (('3', 2), ('9', 1), ('0', 1), ('4', 1)), '42875': (('4', 1), ('2', 1), ('8', 1), ('7', 1), ('5', 1)), '46656': (('4', 1), ('6', 3), ('5', 1)), '50653': (('5', 2), ('0', 1), ('6', 1), ('3', 1)), '54872': (('5', 1), ('4', 1), ('8', 1), ('7', 1), ('2', 1)), '59319': (('5', 1), ('9', 2), ('3', 1), ('1', 1)), '64000': (('6', 1), ('4', 1), ('0', 3)), '68921': (('6', 1), ('8', 1), ('9', 1), ('2', 1), ('1', 1)), '74088': (('7', 1), ('4', 1), ('0', 1), ('8', 2)), '79507': (('7', 2), ('9', 1), ('5', 1), ('0', 1)), '85184': (('8', 2), ('5', 1), ('1', 1), ('4', 1)), '91125': (('9', 1), ('1', 2), ('2', 1), ('5', 1)), '97336': (('9', 1), ('7', 1), ('3', 2), ('6', 1))}\n"
     ]
    }
   ],
   "source": [
    "from collections import Counter\n",
    "from math import ceil, floor\n",
    "\n",
    "\n",
    "n = 5\n",
    "\n",
    "cubes_len_n = [str(b**3) for b in range(ceil((10**((n-1)/3))), floor(10**((n)/3) + 1))]\n",
    "cnts_dict = {c : tuple((k,Counter(c)[k]) for k in Counter(c).keys()) for c in cubes_len_n}\n",
    "\n",
    "print(cnts_dict)\n",
    "\n"
   ]
  },
  {
   "cell_type": "code",
   "execution_count": 29,
   "metadata": {},
   "outputs": [
    {
     "output_type": "stream",
     "name": "stdout",
     "text": [
      "{1: 2}\n"
     ]
    }
   ],
   "source": [
    "d = {1:0}\n",
    "\n",
    "d[1] = 2\n",
    "\n",
    "print(d)"
   ]
  },
  {
   "cell_type": "code",
   "execution_count": 12,
   "metadata": {},
   "outputs": [
    {
     "output_type": "execute_result",
     "data": {
      "text/plain": [
       "12"
      ]
     },
     "metadata": {},
     "execution_count": 12
    }
   ],
   "source": [
    "len(str(140283769536))"
   ]
  },
  {
   "cell_type": "code",
   "execution_count": null,
   "metadata": {},
   "outputs": [],
   "source": [
    "banana = \"banana\"\n",
    "\n",
    "banana."
   ]
  }
 ]
}