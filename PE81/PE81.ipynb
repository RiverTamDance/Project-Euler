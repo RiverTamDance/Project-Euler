{
 "metadata": {
  "language_info": {
   "codemirror_mode": {
    "name": "ipython",
    "version": 3
   },
   "file_extension": ".py",
   "mimetype": "text/x-python",
   "name": "python",
   "nbconvert_exporter": "python",
   "pygments_lexer": "ipython3",
   "version": "3.8.5-final"
  },
  "orig_nbformat": 2,
  "kernelspec": {
   "name": "python3",
   "display_name": "Python 3.8.5 32-bit",
   "metadata": {
    "interpreter": {
     "hash": "e038aca183536c065caa68fd445da584dff35f22d3df5b409d065c2a6a435272"
    }
   }
  }
 },
 "nbformat": 4,
 "nbformat_minor": 2,
 "cells": [
  {
   "cell_type": "code",
   "execution_count": 15,
   "metadata": {},
   "outputs": [
    {
     "output_type": "stream",
     "name": "stdout",
     "text": [
      "6\n[]\n"
     ]
    }
   ],
   "source": [
    "lst = [[3,4],[5,6]]\n",
    "lst2 = [6]\n",
    "\n",
    "print(lst[-1][-1])\n",
    "print(lst2[:-1])\n"
   ]
  },
  {
   "cell_type": "code",
   "execution_count": 20,
   "metadata": {},
   "outputs": [
    {
     "output_type": "stream",
     "name": "stdout",
     "text": [
      "101\n"
     ]
    }
   ],
   "source": [
    "print(int('101'))"
   ]
  },
  {
   "cell_type": "code",
   "execution_count": 22,
   "metadata": {},
   "outputs": [
    {
     "output_type": "stream",
     "name": "stdout",
     "text": [
      "['4445', '2697', '5115', '718', '2209', '2212', '654', '4348', '3079', '6821', '7668', '3276', '8874', '4190', '3785', '2752', '9473', '7817', '9137', '496', '7338', '3434', '7152', '4355', '4552', '7917', '7827', '2460', '2350', '691', '3514', '5880', '3145', '7633', '7199', '3783', '5066', '7487', '3285', '1084', '8985', '760', '872', '8609', '8051', '1134', '9536', '5750', '9716', '9371', '7619', '5617', '275', '9721', '2997', '2698', '1887', '8825', '6372', '3014', '2113', '7122', '7050', '6775', '5948', '2758', '1219', '3539', '348', '7989', '2735', '9862', '1263', '8089', '6401', '9462', '3168', '2758', '3748', '5870']\n"
     ]
    }
   ],
   "source": [
    "import csv\n",
    "\n",
    "with open('C:\\\\Users\\\\Taylor\\\\OneDrive\\\\Documents\\\\Project Euler\\\\PE81\\\\p081_matrix.txt') as f:\n",
    "    reader = csv.reader(f)\n",
    "    str_matrix = list(reader)\n",
    "    matrix = [[int(entry) for entry in row] for row in str_matrix]\n",
    "\n",
    "print(str_matrix[0])"
   ]
  },
  {
   "cell_type": "code",
   "execution_count": 23,
   "metadata": {},
   "outputs": [
    {
     "output_type": "stream",
     "name": "stdout",
     "text": [
      "70\n"
     ]
    }
   ],
   "source": [
    "def path_summer(matrix):\n",
    "    #we don't need coords, as we are always dealing with the bottom right entry. \n",
    "    #matrix = [[row1],[row2],...]\n",
    "    path_sums = []\n",
    "    br_num = matrix[-1][-1]\n",
    "\n",
    "    #now we subset the matrix, creating two sub matrices. 1 with the bottom row removed, one with the rightmost col gone.\n",
    "    #i really need to double check that these references I am creating do not affect one another. **************************************\n",
    "\n",
    "    #we delete the last row to get the \"up\" matrix, this is the action of going up.\n",
    "    mat_up = matrix[:-1]\n",
    "\n",
    "    #we delete the last column to get the \"left\" matrix, this is the action of going left. \n",
    "    mat_left = [row[:-1] for row in matrix]\n",
    "\n",
    "    #base case:\n",
    "    if len(mat_left[0]) == 0 and len(mat_up) == 0:\n",
    "        \n",
    "        path_sums = [br_num]\n",
    "\n",
    "    else:\n",
    "        #We check the number of columns (by checking the number of entries in the first row), and if there is more than 1, we can go \"left\"\n",
    "        if len(mat_left[0]) > 0:\n",
    "            # this condition means that we will never do path sums for a matrix like [[],[],...]\n",
    "            path_sums = [br_num + path_sum for path_sum in path_summer(mat_left)]\n",
    "        \n",
    "        if len(mat_up) > 0:\n",
    "            \n",
    "            path_sums = path_sums + [br_num + path_sum for path_sum in path_summer(mat_up)]\n",
    "    \n",
    "    return(path_sums)\n",
    "\n",
    "test_matrix = [[131, 673, 234, 103, 18], [201, 96, 342, 965, 150], [630, 803, 746, 422, 111], [537, 699, 497, 121, 956], [805, 732, 524, 37, 331]]\n",
    "\n",
    "print(len(path_summer(test_matrix)))"
   ]
  },
  {
   "cell_type": "code",
   "execution_count": 26,
   "metadata": {},
   "outputs": [
    {
     "output_type": "stream",
     "name": "stdout",
     "text": [
      "(1, 2)\n"
     ]
    }
   ],
   "source": [
    "tup = (1,2,3)\n",
    "\n",
    "tup2 = (1,2,3)[:-1]\n",
    "\n",
    "print(tup2)"
   ]
  },
  {
   "cell_type": "code",
   "execution_count": 29,
   "metadata": {},
   "outputs": [
    {
     "output_type": "execute_result",
     "data": {
      "text/plain": [
       "(6, 7)"
      ]
     },
     "metadata": {},
     "execution_count": 29
    }
   ],
   "source": [
    "(6,)+(7,)"
   ]
  },
  {
   "cell_type": "code",
   "execution_count": 3,
   "metadata": {},
   "outputs": [
    {
     "output_type": "stream",
     "name": "stdout",
     "text": [
      "[1, 2, 3, 4, 5, 6, 7, 8, 9]\n"
     ]
    }
   ],
   "source": [
    "print(list(range(1,10)))"
   ]
  },
  {
   "cell_type": "code",
   "execution_count": 35,
   "metadata": {},
   "outputs": [
    {
     "output_type": "stream",
     "name": "stdout",
     "text": [
      "[[[1, 0], [2, 3]], [[10, 11], [15, 18]]]\n"
     ]
    }
   ],
   "source": [
    "matrix = [[131, 673, 234, 103, 18], [201, 96, 342, 965, 150], [630, 803, 746, 422, 111], [537, 699, 497, 121, 956], [805, 732, 524, 37, 331]]\n",
    "\n",
    "matrix = [[[e, 0] for e in row] for row in matrix]\n",
    "\n",
    "n = len(matrix) \n",
    "\n",
    "for path_step in range(2*n - 2):\n",
    "\n",
    "    #for now I will leave it at 157 path steps because our program \"looks forward\", so on the 157th path step we will be \n",
    "    #adding to the final layer.\n",
    "\n",
    "    #The 'starting layer' is the sinister bend diagonal that contains the entries whose row+col is\n",
    "    #equal to the path step. i.e. for path step 1, the set of entries under consideration\n",
    "    # is {a(1,0), a(0,1)}, for path step 0 we have {a(0,0)}. well for FUGGS sake man, python is 0 based... so our matrix\n",
    "    # is really 0...79 x 0...79. cmon BUDDY. \n",
    "    # I think a good place to start is to create a collection of (row, col) for entries in the \n",
    "    # starting layer.\n",
    "\n",
    "    starting_layer = [(i,j) for i in range(n) for j in range(n) if i + j == path_step]\n",
    "\n",
    "    for row, col in starting_layer:\n",
    "\n",
    "        #alright this is the meat and potatoes of the venture.\n",
    "        #alright so i've decided that the matrix will have a 2-length list as each entry. the first entry will be the \n",
    "        # natural number, as given by PE, and the second entry will be the result of summing the the previous layer with \n",
    "        # this entry. this is probably not the fastest way to do it, but I don't care :)\n",
    "        if path_step == 0:\n",
    "            node_val = matrix[row][col][0]\n",
    "        else:\n",
    "            node_val = matrix[row][col][1]\n",
    "            \n",
    "        #here we go \"south\". we have to do this check to ensure we don't throw an error for looking out of bounds of the matrix.\n",
    "        if row < n - 1:\n",
    "\n",
    "            check_val1 = matrix[row+1][col][0] + node_val\n",
    "            \n",
    "            #check if we have added to this node before\n",
    "            if matrix[row+1][col][1] == 0:\n",
    "                matrix[row+1][col][1] = check_val1\n",
    "\n",
    "            elif matrix[row+1][col][1] > check_val1 :\n",
    "                matrix[row+1][col][1] = check_val1\n",
    "            \n",
    "        #here we go \"east\"\n",
    "        if col < n - 1:\n",
    "        \n",
    "            check_val2 = matrix[row][col+1][0] + node_val\n",
    "\n",
    "            if matrix[row][col+1][1] == 0:\n",
    "                matrix[row][col+1][1] = check_val2\n",
    "\n",
    "            elif matrix[row][col+1][1] > check_val2:\n",
    "                matrix[row][col+1][1] = check_val2\n",
    "\n",
    "print(matrix)"
   ]
  },
  {
   "cell_type": "code",
   "execution_count": 18,
   "metadata": {},
   "outputs": [
    {
     "output_type": "stream",
     "name": "stdout",
     "text": [
      "[0, 1, 2, 3, 4, 5, 6, 7, 8, 9, 10, 11, 12, 13, 14, 15, 16, 17, 18]\n"
     ]
    }
   ],
   "source": [
    "n=10\n",
    "\n",
    "print(list(range(0)))"
   ]
  },
  {
   "cell_type": "code",
   "execution_count": 37,
   "metadata": {},
   "outputs": [
    {
     "output_type": "stream",
     "name": "stdout",
     "text": [
      "[[[131, 0], [673, 0], [234, 0], [103, 0], [18, 0]], [[201, 0], [96, 0], [342, 0], [965, 0], [150, 0]], [[630, 0], [803, 0], [746, 0], [422, 0], [111, 0]], [[537, 0], [699, 0], [497, 0], [121, 0], [956, 0]], [[805, 0], [732, 0], [524, 0], [37, 0], [331, 0]]]\n"
     ]
    }
   ],
   "source": [
    "matrix = [[131, 673, 234, 103, 18], [201, 96, 342, 965, 150], [630, 803, 746, 422, 111], [537, 699, 497, 121, 956], [805, 732, 524, 37, 331]]\n",
    "\n",
    "matrix = [[[e, 0] for e in row] for row in matrix]\n",
    "\n",
    "print(matrix)\n"
   ]
  },
  {
   "cell_type": "code",
   "execution_count": null,
   "metadata": {},
   "outputs": [],
   "source": []
  }
 ]
}