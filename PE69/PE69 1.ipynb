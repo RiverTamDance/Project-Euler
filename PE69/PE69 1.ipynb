{
 "cells": [
  {
   "cell_type": "code",
   "execution_count": 4,
   "metadata": {},
   "outputs": [
    {
     "data": {
      "text/plain": [
       "[(2, 2),\n",
       " (3, 3),\n",
       " (5, 5),\n",
       " (7, 7),\n",
       " (11, 11),\n",
       " (13, 13),\n",
       " (17, 17),\n",
       " (19, 19),\n",
       " (23, 23),\n",
       " (29, 29),\n",
       " (31, 31),\n",
       " (37, 37),\n",
       " (41, 41),\n",
       " (43, 43),\n",
       " (47, 47),\n",
       " (53, 53),\n",
       " (59, 59),\n",
       " (61, 61),\n",
       " (67, 67),\n",
       " (71, 71),\n",
       " (73, 73),\n",
       " (79, 79),\n",
       " (83, 83),\n",
       " (89, 89),\n",
       " (97, 97)]"
      ]
     },
     "execution_count": 4,
     "metadata": {},
     "output_type": "execute_result"
    }
   ],
   "source": [
    "#How the function works: by keeping track of the smallest product involving the given prime (p) that is also larger than the square of the prime. The dictionary stores the most recently found compound number with the prime as a factor as its keys, and the prime as the values. Because we pop on old compound keys, the dictionary stays small, and only has n entries at any given point in its operation, where n is the number of primes found thus far.  \n",
    "#   -We only have to track numbers larger than the square, because numbers smaller w/ the prime as a factor have yet smaller primes as factors as well so its already been checked\n",
    "\n",
    "import itertools\n",
    "def erat2( ):\n",
    "    D = {  }\n",
    "    yield 2\n",
    "    for q in itertools.islice(itertools.count(3), 0, None, 2):\n",
    "        p = D.pop(q, None)\n",
    "        if p is None:\n",
    "            D[q*q] = q\n",
    "            yield q\n",
    "        else:\n",
    "            x = p + q\n",
    "            while x in D or not (x&1):\n",
    "                x += p\n",
    "            D[x] = p\n",
    "\n",
    "list(zip(itertools.takewhile(lambda x: x<100, erat2()),itertools.takewhile(lambda x: x<100, erat2())))\n",
    "\n",
    "#print(list(itertools.takewhile(lambda x: x<100, erat2())))"
   ]
  },
  {
   "cell_type": "code",
   "execution_count": 1,
   "metadata": {},
   "outputs": [
    {
     "data": {
      "text/plain": [
       "dict"
      ]
     },
     "execution_count": 1,
     "metadata": {},
     "output_type": "execute_result"
    }
   ],
   "source": [
    "#creates an empty dictionary\n",
    "D = { }\n",
    "#If the compiler detects the yield keyword anywhere inside a function, that function no longer returns via the return statement. Instead, it immediately returns a lazy \"pending list\" object called a generator\n",
    "yield 2\n",
    "#it.count counts from 3 upwards, forever\n",
    "#it.islice slices numbers from the count starting at the zeroth position, it doesnt stop, and it takes steps of size two, i.e. only odd numbers\n",
    "    #So in essence, q is just odd numbers >= 3\n",
    "for q in itertools.islice(itertools.count(3), 0, None, 2):\n",
    "#if q is a key in the dictionary already, then we remove it and assign p the associated value. otherwise, we assign p the value of None. \"The value of the removed item is the return value of the pop() method\"\n",
    "p = D.pop(q, None)\n",
    "#If q had no associated value in the dictionary, then we assign to the dictionary the (k,v) of (q**2, q), and yield q for the function.\n",
    "if p is None:\n",
    "    D[q*q] = q\n",
    "    yield q\n",
    "#however, if p has a not None value, we proceed as follows: we create a variable x, the sum of p and q. Note that p = sqrt(q0) for some other value of q0. so both p and q are odd numbers here, so x must be even. We then check two conditions: is x already a key in the dictionary, and is x NOT bitwise AND with 1, essentially, is x even? if either of these get a yes, then we increment x by p, and loop again. Finally, if x is not already a key in the dictionary, and x is not even, we add (x, p) as a key value pair to the dictionary.\n",
    "#& is the bitwise AND operator, and works as follows: it compares a binary representation of the two arguments, and if both of the bits in a given column are 1, & returns 1, otherwise it returns 0. so for instance, 10 = 1010 in binary, and 4 = 0100 in binary. as we can see, none of the columns contain two 1's, so the result is 0000 = 0. Okay lets test my understanding: 1110 & 1100, which is 14 and 12, and should give us 12. works as expected. sweet. \n",
    "else:\n",
    "    x = p + q\n",
    "    while x in D or not (x&1):\n",
    "        x += p\n",
    "    D[x] = p\n"
   ]
  },
  {
   "cell_type": "code",
   "execution_count": 8,
   "metadata": {},
   "outputs": [
    {
     "name": "stdout",
     "output_type": "stream",
     "text": [
      "False\n",
      "True\n"
     ]
    }
   ],
   "source": [
    "#ex 1\n",
    "14&12\n",
    "\n",
    "#ex 2\n",
    "keys = ['a','b','c','d','e']\n",
    "values = [1,2,3,4,5] \n",
    "\n",
    "D = {k:v for (k,v) in zip(keys,values)}\n",
    "\n",
    "x=1\n",
    "print(x in D)\n",
    "x='a'\n",
    "print(x in D)"
   ]
  },
  {
   "cell_type": "code",
   "execution_count": 5,
   "metadata": {},
   "outputs": [
    {
     "data": {
      "text/plain": [
       "[10, 10, 10, 10, 10, 10, 10, 10, 10, 10]"
      ]
     },
     "execution_count": 5,
     "metadata": {},
     "output_type": "execute_result"
    }
   ],
   "source": [
    "[10]*10\n"
   ]
  },
  {
   "cell_type": "code",
   "execution_count": null,
   "metadata": {},
   "outputs": [],
   "source": []
  }
 ],
 "metadata": {
  "kernelspec": {
   "display_name": "Python 3",
   "language": "python",
   "name": "python3"
  },
  "language_info": {
   "codemirror_mode": {
    "name": "ipython",
    "version": 3
   },
   "file_extension": ".py",
   "mimetype": "text/x-python",
   "name": "python",
   "nbconvert_exporter": "python",
   "pygments_lexer": "ipython3",
   "version": "3.6.6+"
  },
  "vscode": {
   "interpreter": {
    "hash": "56d6ad3342143f28877119381f4bea3a585aaeeb34242e506d66e98f110b987e"
   }
  }
 },
 "nbformat": 4,
 "nbformat_minor": 2
}
