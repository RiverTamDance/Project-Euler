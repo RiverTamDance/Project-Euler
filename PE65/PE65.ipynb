{
 "cells": [
  {
   "cell_type": "code",
   "execution_count": 1,
   "metadata": {},
   "outputs": [
    {
     "name": "stdout",
     "output_type": "stream",
     "text": [
      "1\n"
     ]
    }
   ],
   "source": [
    "from math import gcd\n",
    "print(gcd(3,7))"
   ]
  },
  {
   "cell_type": "code",
   "execution_count": 14,
   "metadata": {},
   "outputs": [
    {
     "name": "stdout",
     "output_type": "stream",
     "text": [
      "98\n"
     ]
    }
   ],
   "source": [
    "import itertools as it\n",
    "# from operator import add\n",
    "\n",
    "# terms = it.accumulate(it.repeat(2), add)\n",
    "\n",
    "# terms1 = zip(it.repeat(1), it.repeat(1))\n",
    "# #raw_terms = islice(cycle([2,1,1]),0,97)\n",
    "\n",
    "# my_list = list(it.islice(gen1,0,97))\n",
    "\n",
    "def make_two(num):\n",
    "\n",
    "    if num % 3 != 0:\n",
    "        return(1)\n",
    "    else:\n",
    "        return(num // 3 * 2)\n",
    "\n",
    "#gives [2, 1, 1, 4, 1, 1, 6, 1, 1, 8, 1,..., 66, 1]\n",
    "terms = list(it.islice(map(make_two, it.count(3)), 0, 98))\n",
    "\n",
    "\n",
    "print(len(terms))"
   ]
  },
  {
   "cell_type": "code",
   "execution_count": null,
   "metadata": {},
   "outputs": [],
   "source": []
  }
 ],
 "metadata": {
  "language_info": {
   "name": "python"
  },
  "orig_nbformat": 4
 },
 "nbformat": 4,
 "nbformat_minor": 2
}
