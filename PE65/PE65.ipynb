{
 "cells": [
  {
   "cell_type": "code",
   "execution_count": 1,
   "metadata": {},
   "outputs": [
    {
     "name": "stdout",
     "output_type": "stream",
     "text": [
      "1\n"
     ]
    }
   ],
   "source": [
    "from math import gcd\n",
    "print(gcd(3,7))"
   ]
  },
  {
   "cell_type": "code",
   "execution_count": 15,
   "metadata": {},
   "outputs": [
    {
     "name": "stdout",
     "output_type": "stream",
     "text": [
      "[2, 1, 1, 4, 1, 1, 6, 1, 1, 8, 1, 1, 10, 1, 1, 12, 1, 1, 14, 1, 1, 16, 1, 1, 18, 1, 1, 20, 1, 1, 22, 1, 1, 24, 1, 1, 26, 1, 1, 28, 1, 1, 30, 1, 1, 32, 1, 1, 34, 1, 1, 36, 1, 1, 38, 1, 1, 40, 1, 1, 42, 1, 1, 44, 1, 1, 46, 1, 1, 48, 1, 1, 50, 1, 1, 52, 1, 1, 54, 1, 1, 56, 1, 1, 58, 1, 1, 60, 1, 1, 62, 1, 1, 64, 1, 1, 66, 1]\n"
     ]
    }
   ],
   "source": [
    "import itertools as it\n",
    "# from operator import add\n",
    "\n",
    "# terms = it.accumulate(it.repeat(2), add)\n",
    "\n",
    "# terms1 = zip(it.repeat(1), it.repeat(1))\n",
    "# #raw_terms = islice(cycle([2,1,1]),0,97)\n",
    "\n",
    "# my_list = list(it.islice(gen1,0,97))\n",
    "\n",
    "def make_two(num):\n",
    "\n",
    "    if num % 3 != 0:\n",
    "        return(1)\n",
    "    else:\n",
    "        return(num // 3 * 2)\n",
    "\n",
    "#gives [2, 1, 1, 4, 1, 1, 6, 1, 1, 8, 1,..., 66, 1]\n",
    "terms = list(it.islice(map(make_two, it.count(3)), 0, 98))\n",
    "\n",
    "\n",
    "print(terms)"
   ]
  },
  {
   "cell_type": "code",
   "execution_count": null,
   "metadata": {},
   "outputs": [],
   "source": []
  }
 ],
 "metadata": {
  "interpreter": {
   "hash": "bf377b707728dbec1040007a52e86a91032ba5ee0a26fb143bb1a04f53bc0a5c"
  },
  "kernelspec": {
   "display_name": "Python 3.9.10 ('DataScience')",
   "language": "python",
   "name": "python3"
  },
  "language_info": {
   "name": "python",
   "version": "3.9.10"
  },
  "orig_nbformat": 4
 },
 "nbformat": 4,
 "nbformat_minor": 2
}
